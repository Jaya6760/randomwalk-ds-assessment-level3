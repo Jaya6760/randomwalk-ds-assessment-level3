{
 "cells": [
  {
   "cell_type": "code",
   "execution_count": 1,
   "id": "9562619c",
   "metadata": {},
   "outputs": [],
   "source": [
    "import pandas as pd\n",
    "import numpy as np\n",
    "import matplotlib.pyplot as plt"
   ]
  },
  {
   "cell_type": "code",
   "execution_count": 2,
   "id": "61b2910a",
   "metadata": {},
   "outputs": [],
   "source": [
    "books_df = pd.read_csv('books.csv')\n",
    "books_tags_df = pd.read_csv('book_tags.csv')\n",
    "ratings_df = pd.read_csv('ratings.csv')"
   ]
  },
  {
   "cell_type": "code",
   "execution_count": 3,
   "id": "a8282dd1",
   "metadata": {},
   "outputs": [
    {
     "name": "stdout",
     "output_type": "stream",
     "text": [
      "<class 'pandas.core.frame.DataFrame'>\n",
      "RangeIndex: 399 entries, 0 to 398\n",
      "Data columns (total 24 columns):\n",
      " #   Column                     Non-Null Count  Dtype  \n",
      "---  ------                     --------------  -----  \n",
      " 0   book_id                    399 non-null    int64  \n",
      " 1   goodreads_book_id          399 non-null    int64  \n",
      " 2   best_book_id               399 non-null    int64  \n",
      " 3   work_id                    399 non-null    int64  \n",
      " 4   books_count                399 non-null    int64  \n",
      " 5   isbn                       388 non-null    object \n",
      " 6   isbn13                     389 non-null    float64\n",
      " 7   authors                    399 non-null    object \n",
      " 8   original_publication_year  399 non-null    float64\n",
      " 9   original_title             363 non-null    object \n",
      " 10  title                      399 non-null    object \n",
      " 11  language_code              356 non-null    object \n",
      " 12  average_rating             399 non-null    float64\n",
      " 13  ratings_count              399 non-null    int64  \n",
      " 14  work_ratings_count         399 non-null    int64  \n",
      " 15  work_text_reviews_count    399 non-null    int64  \n",
      " 16  ratings_1                  399 non-null    int64  \n",
      " 17  ratings_2                  399 non-null    int64  \n",
      " 18  ratings_3                  399 non-null    int64  \n",
      " 19  ratings_4                  399 non-null    int64  \n",
      " 20  ratings_5                  399 non-null    int64  \n",
      " 21  image_url                  399 non-null    object \n",
      " 22  small_image_url            399 non-null    object \n",
      " 23  NonEnglish                 399 non-null    int64  \n",
      "dtypes: float64(3), int64(14), object(7)\n",
      "memory usage: 74.9+ KB\n"
     ]
    }
   ],
   "source": [
    "books_df.info()"
   ]
  },
  {
   "cell_type": "code",
   "execution_count": 4,
   "id": "f5a05d8d",
   "metadata": {},
   "outputs": [
    {
     "name": "stdout",
     "output_type": "stream",
     "text": [
      "<class 'pandas.core.frame.DataFrame'>\n",
      "RangeIndex: 40200 entries, 0 to 40199\n",
      "Data columns (total 3 columns):\n",
      " #   Column             Non-Null Count  Dtype\n",
      "---  ------             --------------  -----\n",
      " 0   goodreads_book_id  40200 non-null  int64\n",
      " 1   tag_id             40200 non-null  int64\n",
      " 2   count              40200 non-null  int64\n",
      "dtypes: int64(3)\n",
      "memory usage: 942.3 KB\n"
     ]
    }
   ],
   "source": [
    "books_tags_df.info()"
   ]
  },
  {
   "cell_type": "code",
   "execution_count": 5,
   "id": "1fd10dac",
   "metadata": {},
   "outputs": [
    {
     "name": "stdout",
     "output_type": "stream",
     "text": [
      "<class 'pandas.core.frame.DataFrame'>\n",
      "RangeIndex: 233383 entries, 0 to 233382\n",
      "Data columns (total 3 columns):\n",
      " #   Column   Non-Null Count   Dtype\n",
      "---  ------   --------------   -----\n",
      " 0   user_id  233383 non-null  int64\n",
      " 1   book_id  233383 non-null  int64\n",
      " 2   rating   233383 non-null  int64\n",
      "dtypes: int64(3)\n",
      "memory usage: 5.3 MB\n"
     ]
    }
   ],
   "source": [
    "ratings_df.info()"
   ]
  },
  {
   "cell_type": "code",
   "execution_count": 6,
   "id": "109af926",
   "metadata": {},
   "outputs": [
    {
     "data": {
      "text/plain": [
       "book_id                       0\n",
       "goodreads_book_id             0\n",
       "best_book_id                  0\n",
       "work_id                       0\n",
       "books_count                   0\n",
       "isbn                         11\n",
       "isbn13                       10\n",
       "authors                       0\n",
       "original_publication_year     0\n",
       "original_title               36\n",
       "title                         0\n",
       "language_code                43\n",
       "average_rating                0\n",
       "ratings_count                 0\n",
       "work_ratings_count            0\n",
       "work_text_reviews_count       0\n",
       "ratings_1                     0\n",
       "ratings_2                     0\n",
       "ratings_3                     0\n",
       "ratings_4                     0\n",
       "ratings_5                     0\n",
       "image_url                     0\n",
       "small_image_url               0\n",
       "NonEnglish                    0\n",
       "dtype: int64"
      ]
     },
     "execution_count": 6,
     "metadata": {},
     "output_type": "execute_result"
    }
   ],
   "source": [
    "books_df.isna().sum()"
   ]
  },
  {
   "cell_type": "code",
   "execution_count": 7,
   "id": "7e08b298",
   "metadata": {},
   "outputs": [
    {
     "data": {
      "text/plain": [
       "0"
      ]
     },
     "execution_count": 7,
     "metadata": {},
     "output_type": "execute_result"
    }
   ],
   "source": [
    "books_df.duplicated().sum()"
   ]
  },
  {
   "cell_type": "code",
   "execution_count": 8,
   "id": "7c638fef",
   "metadata": {},
   "outputs": [
    {
     "name": "stdout",
     "output_type": "stream",
     "text": [
      "1. Number of books without an original title: 36\n"
     ]
    }
   ],
   "source": [
    "books_without_title_count = books_df['original_title'].isnull().sum()\n",
    "print(f'1. Number of books without an original title: {books_without_title_count}')"
   ]
  },
  {
   "cell_type": "code",
   "execution_count": 9,
   "id": "da8c71b7",
   "metadata": {},
   "outputs": [
    {
     "name": "stdout",
     "output_type": "stream",
     "text": [
      "2. Number of unique books in the dataset: 363\n"
     ]
    }
   ],
   "source": [
    "books_df_cleaned = books_df.dropna(subset=['original_title'])\n",
    "book_tags_df_cleaned = books_tags_df[books_tags_df['goodreads_book_id'].isin(books_df_cleaned['book_id'])]\n",
    "ratings_df_cleaned = ratings_df[ratings_df['book_id'].isin(books_df_cleaned['book_id'])]\n",
    "unique_books_count = books_df_cleaned['book_id'].nunique()\n",
    "print(f'2. Number of unique books in the dataset: {unique_books_count}')"
   ]
  },
  {
   "cell_type": "code",
   "execution_count": 10,
   "id": "d5cb8382",
   "metadata": {},
   "outputs": [
    {
     "name": "stdout",
     "output_type": "stream",
     "text": [
      "3. Number of unique users in the dataset: 40573\n"
     ]
    }
   ],
   "source": [
    "unique_users_count = ratings_df_cleaned['user_id'].nunique()\n",
    "print(f'3. Number of unique users in the dataset: {unique_users_count}')"
   ]
  },
  {
   "cell_type": "code",
   "execution_count": 11,
   "id": "01eacfb7",
   "metadata": {},
   "outputs": [
    {
     "name": "stdout",
     "output_type": "stream",
     "text": [
      "4. Number of unique tags in the dataset: 100\n"
     ]
    }
   ],
   "source": [
    "unique_tags_count = book_tags_df_cleaned['tag_id'].nunique()\n",
    "print(f'4. Number of unique tags in the dataset: {unique_tags_count}')"
   ]
  },
  {
   "cell_type": "code",
   "execution_count": 12,
   "id": "48ff44a1",
   "metadata": {},
   "outputs": [
    {
     "name": "stdout",
     "output_type": "stream",
     "text": [
      "5. Tag_id most frequently used: 13568\n"
     ]
    }
   ],
   "source": [
    "most_used_tag_id = book_tags_df_cleaned['tag_id'].value_counts().idxmax()\n",
    "print(f'5. Tag_id most frequently used: {most_used_tag_id}')"
   ]
  },
  {
   "cell_type": "code",
   "execution_count": 13,
   "id": "29cc2288",
   "metadata": {},
   "outputs": [
    {
     "name": "stdout",
     "output_type": "stream",
     "text": [
      "6. Book with the most tags given by users: Beyond Band of Brothers: The War Memoirs of Major Dick Winters\n"
     ]
    }
   ],
   "source": [
    "merged_df = pd.merge(book_tags_df_cleaned, books_df_cleaned, left_on='goodreads_book_id', right_on='book_id')\n",
    "most_tagged_book_title = merged_df['title'].value_counts().idxmax()\n",
    "print(f'6. Book with the most tags given by users: {most_tagged_book_title}')"
   ]
  },
  {
   "cell_type": "code",
   "execution_count": 14,
   "id": "edb9440e",
   "metadata": {},
   "outputs": [
    {
     "data": {
      "image/png": "[encoded data removed]",
      "text/plain": [
       "<Figure size 432x288 with 1 Axes>"
      ]
     },
     "metadata": {
      "needs_background": "light"
     },
     "output_type": "display_data"
    }
   ],
   "source": [
    "top_tags = book_tags_df_cleaned.groupby('tag_id')['goodreads_book_id'].count().nlargest(20)\n",
    "top_tags.plot(kind='bar', xlabel='Tag ID', ylabel='User Records', title='Top 20 Tags')\n",
    "\n",
    "# Show the plot\n",
    "plt.show()"
   ]
  }
 ],
 "metadata": {
  "kernelspec": {
   "display_name": "Python 3",
   "language": "python",
   "name": "python3"
  },
  "language_info": {
   "codemirror_mode": {
    "name": "ipython",
    "version": 3
   },
   "file_extension": ".py",
   "mimetype": "text/x-python",
   "name": "python",
   "nbconvert_exporter": "python",
   "pygments_lexer": "ipython3",
   "version": "3.8.8"
  }
 },
 "nbformat": 4,
 "nbformat_minor": 5
}
